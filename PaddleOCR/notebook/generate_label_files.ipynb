{
 "cells": [
  {
   "cell_type": "code",
   "execution_count": 1,
   "id": "d99f1522",
   "metadata": {},
   "outputs": [],
   "source": [
    "import os"
   ]
  },
  {
   "cell_type": "code",
   "execution_count": 2,
   "id": "f9b10856",
   "metadata": {},
   "outputs": [],
   "source": [
    "# --- Configuration ---\n",
    "# The root directory of your dataset (the folder containing 'train' and 'val')\n",
    "DATASET_ROOT = \"../data/classifier_data/\""
   ]
  },
  {
   "cell_type": "code",
   "execution_count": 3,
   "id": "25497fe5",
   "metadata": {},
   "outputs": [],
   "source": [
    "\n",
    "# --- Main Script ---\n",
    "\n",
    "def create_label_files(root_dir):\n",
    "    \"\"\"\n",
    "    Manually creates train_list.txt and val_list.txt for PaddleClas\n",
    "    by walking through the 'train' and 'val' directories.\n",
    "    \"\"\"\n",
    "    print(f\"Scanning dataset root: {root_dir}\")\n",
    "\n",
    "    # Check if the root directory exists\n",
    "    if not os.path.isdir(root_dir):\n",
    "        print(f\"Error: Directory not found at '{root_dir}'. Please check the DATASET_ROOT path.\")\n",
    "        return\n",
    "\n",
    "    # Define the class names and their corresponding integer labels\n",
    "    # This must match the order in your label_list.txt!\n",
    "    class_to_idx = {\"handwritten\": 0, \"printed\": 1}\n",
    "    print(f\"Using class mapping: {class_to_idx}\")\n",
    "\n",
    "    # Process both 'train' and 'val' splits\n",
    "    for split in ['train', 'val']:\n",
    "        print(f\"\\nProcessing '{split}' set...\")\n",
    "        \n",
    "        split_dir = os.path.join(root_dir, split)\n",
    "        if not os.path.isdir(split_dir):\n",
    "            print(f\"  - '{split}' directory not found. Skipping.\")\n",
    "            continue\n",
    "\n",
    "        output_file_path = os.path.join(root_dir, f\"{split}_list.txt\")\n",
    "        image_count = 0\n",
    "        \n",
    "        # Open the output file for writing\n",
    "        with open(output_file_path, 'w', encoding='utf-8') as f:\n",
    "            # Loop through each class folder ('handwritten', 'printed')\n",
    "            for class_name, class_idx in class_to_idx.items():\n",
    "                class_dir = os.path.join(split_dir, class_name)\n",
    "                if not os.path.isdir(class_dir):\n",
    "                    print(f\"  - Class directory '{class_name}' not found in '{split}' set. Skipping.\")\n",
    "                    continue\n",
    "                \n",
    "                # Loop through each image in the class folder, sorting for consistency\n",
    "                for img_filename in sorted(os.listdir(class_dir)):\n",
    "                    # Construct the relative path from the 'train' or 'val' folder\n",
    "                    # The format should be \"classname/imagename.jpg\"\n",
    "                    relative_path = os.path.join(class_name, img_filename)\n",
    "                    \n",
    "                    # Write the line in the format: \"relative/path/to/image.jpg class_index\"\n",
    "                    # Use forward slashes for compatibility, even on Windows\n",
    "                    f.write(f\"{relative_path.replace(os.sep, '/')} {class_idx}\\n\")\n",
    "                    image_count += 1\n",
    "        \n",
    "        print(f\"  - Successfully created '{output_file_path}' with {image_count} entries.\")\n",
    "\n"
   ]
  },
  {
   "cell_type": "code",
   "execution_count": 4,
   "id": "5e6adac2",
   "metadata": {},
   "outputs": [
    {
     "name": "stdout",
     "output_type": "stream",
     "text": [
      "Scanning dataset root: ../data/classifier_data/\n",
      "Using class mapping: {'handwritten': 0, 'printed': 1}\n",
      "\n",
      "Processing 'train' set...\n",
      "  - Successfully created '../data/classifier_data/train_list.txt' with 1342 entries.\n",
      "\n",
      "Processing 'val' set...\n",
      "  - Successfully created '../data/classifier_data/val_list.txt' with 335 entries.\n"
     ]
    }
   ],
   "source": [
    "if __name__ == \"__main__\":\n",
    "    create_label_files(DATASET_ROOT)"
   ]
  }
 ],
 "metadata": {
  "kernelspec": {
   "display_name": "cloudspace",
   "language": "python",
   "name": "python3"
  },
  "language_info": {
   "codemirror_mode": {
    "name": "ipython",
    "version": 3
   },
   "file_extension": ".py",
   "mimetype": "text/x-python",
   "name": "python",
   "nbconvert_exporter": "python",
   "pygments_lexer": "ipython3",
   "version": "3.10.10"
  }
 },
 "nbformat": 4,
 "nbformat_minor": 5
}
