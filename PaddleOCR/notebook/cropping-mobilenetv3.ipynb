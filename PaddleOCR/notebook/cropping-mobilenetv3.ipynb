{
 "cells": [
  {
   "cell_type": "code",
   "execution_count": 1,
   "id": "14b3becf",
   "metadata": {},
   "outputs": [],
   "source": [
    "import os\n",
    "import json\n",
    "import cv2\n",
    "import numpy as np"
   ]
  },
  {
   "cell_type": "code",
   "execution_count": 2,
   "id": "efc08243",
   "metadata": {},
   "outputs": [],
   "source": [
    "# The script will look for Label.txt inside this folder.\n",
    "ANNOTATION_DIR = \"../Birth_Certificate/\" \n",
    "# Path to the folder containing your original, full-size images\n",
    "IMAGE_DIR = \"../\" \n",
    "# Where to save the final cropped snippets\n",
    "OUTPUT_DIR = \"../data/classifier_data/\"\n"
   ]
  },
  {
   "cell_type": "code",
   "execution_count": 3,
   "id": "037e062a",
   "metadata": {},
   "outputs": [
    {
     "name": "stdout",
     "output_type": "stream",
     "text": [
      "Starting snippet creation...\n",
      "Processing annotation file: ../Birth_Certificate/Label.txt\n"
     ]
    },
    {
     "name": "stdout",
     "output_type": "stream",
     "text": [
      "\n",
      "Done! Created 1677 snippets in '../data/classifier_data/'\n"
     ]
    }
   ],
   "source": [
    "\n",
    "# --- Main Script ---\n",
    "\n",
    "def crop_and_save_snippets(annotation_dir, image_dir, output_dir):\n",
    "    print(\"Starting snippet creation...\")\n",
    "    \n",
    "    # Create output directories if they don't exist\n",
    "    os.makedirs(os.path.join(output_dir, \"printed\"), exist_ok=True)\n",
    "    os.makedirs(os.path.join(output_dir, \"handwritten\"), exist_ok=True)\n",
    "\n",
    "    snippet_count = 0\n",
    "    \n",
    "    # Define the path to the main annotation file\n",
    "    label_file_path = os.path.join(annotation_dir, \"Label.txt\")\n",
    "    \n",
    "    if not os.path.exists(label_file_path):\n",
    "        print(f\"Error: Label.txt not found in '{annotation_dir}'\")\n",
    "        return\n",
    "\n",
    "    print(f\"Processing annotation file: {label_file_path}\")\n",
    "    \n",
    "    with open(label_file_path, 'r', encoding='utf-8') as f:\n",
    "        for line in f:\n",
    "            # The line contains image_path relative path and a list of annotations\n",
    "            try:\n",
    "                img_path, annotations_str = line.strip().split('\\t')\n",
    "                annotations = json.loads(annotations_str)\n",
    "            except ValueError:\n",
    "                print(f\"  - Could not parse line: {line.strip()}\")\n",
    "                continue\n",
    "\n",
    "            # Load the original image\n",
    "            full_image_path = os.path.join(image_dir, img_path)\n",
    "            if not os.path.exists(full_image_path):\n",
    "                print(f\"  - Image not found: {full_image_path}\")\n",
    "                continue\n",
    "            image = cv2.imread(full_image_path)\n",
    "\n",
    "            # Process each annotation (each box you drew)\n",
    "            for ann in annotations:\n",
    "                # --- THIS IS THE KEY CORRECTION ---\n",
    "                # We get the label from the 'transcription' key, not the 'label' key.\n",
    "                label = ann['transcription']\n",
    "                \n",
    "                points = np.array(ann['points'], dtype=np.int32)\n",
    "\n",
    "                # We only care about our two classes\n",
    "                if label not in ['printed', 'handwritten']:\n",
    "                    continue\n",
    "\n",
    "                # Get the bounding box coordinates from the polygon points\n",
    "                x, y, w, h = cv2.boundingRect(points)\n",
    "                \n",
    "                # Crop the region from the original image\n",
    "                snippet = image[y:y+h, x:x+w]\n",
    "                \n",
    "                if snippet.size == 0:\n",
    "                    continue\n",
    "\n",
    "                # Define the output path\n",
    "                save_path = os.path.join(output_dir, \"./\", label, f\"snippet_{snippet_count}.jpg\")\n",
    "                \n",
    "                # Save the cropped snippet\n",
    "                cv2.imwrite(save_path, snippet)\n",
    "                snippet_count += 1\n",
    "    \n",
    "    print(f\"\\nDone! Created {snippet_count} snippets in '{output_dir}'\")\n",
    "\n",
    "# --- Run the script ---\n",
    "if __name__ == \"__main__\":\n",
    "    crop_and_save_snippets(ANNOTATION_DIR, IMAGE_DIR, OUTPUT_DIR)"
   ]
  }
 ],
 "metadata": {
  "kernelspec": {
   "display_name": "cloudspace",
   "language": "python",
   "name": "python3"
  },
  "language_info": {
   "codemirror_mode": {
    "name": "ipython",
    "version": 3
   },
   "file_extension": ".py",
   "mimetype": "text/x-python",
   "name": "python",
   "nbconvert_exporter": "python",
   "pygments_lexer": "ipython3",
   "version": "3.10.10"
  }
 },
 "nbformat": 4,
 "nbformat_minor": 5
}
