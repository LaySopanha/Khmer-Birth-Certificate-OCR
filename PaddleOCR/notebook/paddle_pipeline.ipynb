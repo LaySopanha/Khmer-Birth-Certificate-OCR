{
 "cells": [
  {
   "cell_type": "code",
   "execution_count": 2,
   "id": "4970a384",
   "metadata": {},
   "outputs": [],
   "source": [
    "import cv2\n",
    "import pytesseract\n",
    "from PIL import Image\n",
    "from paddleocr import PaddleOCR, LayoutDetection,TableCellsDetection\n",
    "import json\n"
   ]
  },
  {
   "cell_type": "code",
   "execution_count": 16,
   "id": "ab5df89d",
   "metadata": {},
   "outputs": [],
   "source": [
    "image_path = '../image/birth_certificate2.jpg'\n",
    "image_path2 = './output/rectified.jpg'"
   ]
  },
  {
   "cell_type": "code",
   "execution_count": 15,
   "id": "be469fb3",
   "metadata": {},
   "outputs": [
    {
     "name": "stderr",
     "output_type": "stream",
     "text": [
      "\u001b[32mUsing official model (UVDoc), the model files will be automatically downloaded and saved in C:\\Users\\User\\.paddlex\\official_models.\u001b[0m\n",
      "\u001b[32m{'res': {'input_path': '../image/birth_certificate2.jpg', 'page_index': None, 'doctr_img': '...'}}\u001b[0m\n"
     ]
    }
   ],
   "source": [
    "from paddleocr import TextImageUnwarping\n",
    "model = TextImageUnwarping(model_name=\"UVDoc\")\n",
    "output = model.predict(image_path, batch_size=1)\n",
    "for res in output:\n",
    "    res.print()\n",
    "    res.save_to_img(save_path=\"./output/rectified.jpg\")\n",
    "    res.save_to_json(save_path=\"./output/res.json\")"
   ]
  },
  {
   "cell_type": "code",
   "execution_count": 19,
   "id": "2b58c95f",
   "metadata": {},
   "outputs": [
    {
     "name": "stderr",
     "output_type": "stream",
     "text": [
      "\u001b[32mUsing official model (PP-DocLayout_plus-L), the model files will be automatically downloaded and saved in C:\\Users\\User\\.paddlex\\official_models.\u001b[0m\n"
     ]
    },
    {
     "name": "stderr",
     "output_type": "stream",
     "text": [
      "\u001b[32m{'res': {'input_path': './output/rectified.jpg', 'page_index': None, 'boxes': [{'cls_id': 8, 'label': 'table', 'score': 0.9704807996749878, 'coordinate': [35.377697, 293.9248, 792.89594, 1045.6294]}, {'cls_id': 2, 'label': 'text', 'score': 0.8393977880477905, 'coordinate': [37.671707, 159.83469, 229.0261, 256.7529]}, {'cls_id': 6, 'label': 'figure_title', 'score': 0.7486249208450317, 'coordinate': [336.60367, 244.96712, 496.12122, 286.5463]}, {'cls_id': 2, 'label': 'text', 'score': 0.7281993627548218, 'coordinate': [538.2654, 165.37402, 799.59906, 243.25592]}, {'cls_id': 1, 'label': 'image', 'score': 0.5689514875411987, 'coordinate': [468.18112, 1091.9705, 713.0846, 1235.7338]}, {'cls_id': 2, 'label': 'text', 'score': 0.5649971961975098, 'coordinate': [555.0808, 74.13283, 756.60956, 152.71788]}, {'cls_id': 1, 'label': 'image', 'score': 0.5551533699035645, 'coordinate': [347.57776, 0.26385784, 479.4271, 125.08124]}, {'cls_id': 2, 'label': 'text', 'score': 0.5416705012321472, 'coordinate': [407.03278, 1058.0879, 790.4752, 1096.1326]}]}}\u001b[0m\n"
     ]
    }
   ],
   "source": [
    "from paddleocr import LayoutDetection\n",
    "\n",
    "model = LayoutDetection(model_name=\"PP-DocLayout_plus-L\")\n",
    "output = model.predict(image_path2, batch_size=1, layout_nms=True)\n",
    "for res in output:\n",
    "    res.print()\n",
    "    res.save_to_img(save_path=\"./output/layout_detection.jpg\")\n",
    "    res.save_to_json(save_path=\"./output/res.json\")"
   ]
  },
  {
   "cell_type": "code",
   "execution_count": 20,
   "id": "4cf29ad6",
   "metadata": {},
   "outputs": [
    {
     "name": "stderr",
     "output_type": "stream",
     "text": [
      "\u001b[32mUsing official model (PP-OCRv5_server_det), the model files will be automatically downloaded and saved in C:\\Users\\User\\.paddlex\\official_models.\u001b[0m\n",
      "\u001b[32m{'res': {'input_path': './output/rectified.jpg', 'page_index': None, 'dt_polys': array([[[ 576, 1194],\n",
      "        ...,\n",
      "        [ 573, 1226]],\n",
      "\n",
      "       ...,\n",
      "\n",
      "       [[ 558,   69],\n",
      "        ...,\n",
      "        [ 558,  105]]], dtype=int16), 'dt_scores': [0.8110506132391283, 0.694351440086367, 0.739040028796096, 0.8650103403507177, 0.866330865830694, 0.8968166445842999, 0.9088308013536084, 0.6385174316678648, 0.8836508828679697, 0.8198428182941839, 0.830803617320795, 0.6150673119506488, 0.9585661439207858, 0.7895072351421972, 0.8754028376246296, 0.8511726268560881, 0.8958132480867458, 0.9113468368570985, 0.9190013175257408, 0.9600067064219061, 0.9407284838909453, 0.8595093803730843, 0.6769289172942148, 0.8122571765158321, 0.8729398956714696, 0.8751377699356506, 0.9009884270094086, 0.9482837953834848, 0.8703930738276051, 0.8647446344713304, 0.8711793810111985, 0.9315071599564279, 0.9728947724424504, 0.8543747552226564, 0.9113754779214867, 0.9040204655868237, 0.8010351387189957, 0.9183901472937179, 0.9162658601999283, 0.7456358967082841, 0.7661823741710018, 0.8382882695512679, 0.9226383454146396, 0.9108636432625424, 0.790545987713358, 0.8771994772091042, 0.8995798079816815, 0.9389090893595249, 0.8408796552545647, 0.8523962527496397, 0.8737716603460661, 0.8962516138528784, 0.862304018636635, 0.6809865681498195, 0.895906309993159, 0.8897176762906842]}}\u001b[0m\n"
     ]
    }
   ],
   "source": [
    "from paddleocr import TextDetection\n",
    "model = TextDetection(model_name=\"PP-OCRv5_server_det\")\n",
    "output = model.predict(image_path2, batch_size=1)\n",
    "for res in output:\n",
    "    res.print()\n",
    "    res.save_to_img(save_path=\"./output/\")\n",
    "    res.save_to_json(save_path=\"./output/res.json\")"
   ]
  },
  {
   "cell_type": "code",
   "execution_count": 22,
   "id": "4294db58",
   "metadata": {},
   "outputs": [
    {
     "name": "stderr",
     "output_type": "stream",
     "text": [
      "\u001b[32mUsing official model (PP-LCNet_x0_25_textline_ori), the model files will be automatically downloaded and saved in C:\\Users\\User\\.paddlex\\official_models.\u001b[0m\n",
      "\u001b[32m{'res': {'input_path': './output/rectified.jpg', 'page_index': None, 'class_ids': array([0]), 'scores': array([0.54722], dtype=float32), 'label_names': ['0_degree']}}\u001b[0m\n"
     ]
    }
   ],
   "source": [
    "from paddleocr import TextLineOrientationClassification\n",
    "model = TextLineOrientationClassification(model_name=\"PP-LCNet_x0_25_textline_ori\")\n",
    "output = model.predict(image_path2,  batch_size=1)\n",
    "for res in output:\n",
    "    res.print(json_format=False)\n",
    "    res.save_to_img(\"./output/demo.png\")\n",
    "    res.save_to_json(\"./output/res.json\")"
   ]
  }
 ],
 "metadata": {
  "kernelspec": {
   "display_name": "paddle_env",
   "language": "python",
   "name": "python3"
  },
  "language_info": {
   "codemirror_mode": {
    "name": "ipython",
    "version": 3
   },
   "file_extension": ".py",
   "mimetype": "text/x-python",
   "name": "python",
   "nbconvert_exporter": "python",
   "pygments_lexer": "ipython3",
   "version": "3.8.20"
  }
 },
 "nbformat": 4,
 "nbformat_minor": 5
}
